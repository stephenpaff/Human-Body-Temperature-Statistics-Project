{
 "cells": [
  {
   "cell_type": "markdown",
   "metadata": {},
   "source": [
    "# What is the True Normal Human Body Temperature? \n",
    "\n",
    "#### Background\n",
    "\n",
    "The mean normal body temperature was held to be 37$^{\\circ}$C or 98.6$^{\\circ}$F for more than 120 years since it was first conceptualized and reported by Carl Wunderlich in a famous 1868 book. But, is this value statistically correct?"
   ]
  },
  {
   "cell_type": "markdown",
   "metadata": {},
   "source": [
    "<div class=\"span5 alert alert-info\">\n",
    "<h3>Exercises</h3>\n",
    "\n",
    "<p>In this exercise, you will analyze a dataset of human body temperatures and employ the concepts of hypothesis testing, confidence intervals, and statistical significance.</p>\n",
    "\n",
    "<p>Answer the following questions <b>in this notebook below and submit to your Github account</b>.</p> \n",
    "\n",
    "<ol>\n",
    "<li>  Is the distribution of body temperatures normal? \n",
    "    <ul>\n",
    "    <li> Although this is not a requirement for CLT to hold (read CLT carefully), it gives us some peace of mind that the population may also be normally distributed if we assume that this sample is representative of the population.\n",
    "    </ul>\n",
    "<li>  Is the sample size large? Are the observations independent?\n",
    "    <ul>\n",
    "    <li> Remember that this is a condition for the CLT, and hence the statistical tests we are using, to apply.\n",
    "    </ul>\n",
    "<li>  Is the true population mean really 98.6 degrees F?\n",
    "    <ul>\n",
    "    <li> Would you use a one-sample or two-sample test? Why?\n",
    "    <li> In this situation, is it appropriate to use the $t$ or $z$ statistic? \n",
    "    <li> Now try using the other test. How is the result be different? Why?\n",
    "    </ul>\n",
    "<li>  At what temperature should we consider someone's temperature to be \"abnormal\"?\n",
    "    <ul>\n",
    "    <li> Start by computing the margin of error and confidence interval.\n",
    "    </ul>\n",
    "<li>  Is there a significant difference between males and females in normal temperature?\n",
    "    <ul>\n",
    "    <li> What test did you use and why?\n",
    "    <li> Write a story with your conclusion in the context of the original problem.\n",
    "    </ul>\n",
    "</ol>\n",
    "\n",
    "You can include written notes in notebook cells using Markdown: \n",
    "   - In the control panel at the top, choose Cell > Cell Type > Markdown\n",
    "   - Markdown syntax: http://nestacms.com/docs/creating-content/markdown-cheat-sheet\n",
    "\n",
    "#### Resources\n",
    "\n",
    "+ Information and data sources: http://www.amstat.org/publications/jse/datasets/normtemp.txt, http://www.amstat.org/publications/jse/jse_data_archive.htm\n",
    "+ Markdown syntax: http://nestacms.com/docs/creating-content/markdown-cheat-sheet\n",
    "\n",
    "****\n",
    "</div>"
   ]
  },
  {
   "cell_type": "code",
   "execution_count": 27,
   "metadata": {
    "collapsed": false
   },
   "outputs": [
    {
     "data": {
      "text/html": [
       "<style>body {\n",
       "    margin: 0;\n",
       "    font-family: Helvetica;\n",
       "}\n",
       "table.dataframe {\n",
       "    border-collapse: collapse;\n",
       "    border: none;\n",
       "}\n",
       "table.dataframe tr {\n",
       "    border: none;\n",
       "}\n",
       "table.dataframe td, table.dataframe th {\n",
       "    margin: 0;\n",
       "    border: 1px solid white;\n",
       "    padding-left: 0.25em;\n",
       "    padding-right: 0.25em;\n",
       "}\n",
       "table.dataframe th:not(:empty) {\n",
       "    background-color: #fec;\n",
       "    text-align: left;\n",
       "    font-weight: normal;\n",
       "}\n",
       "table.dataframe tr:nth-child(2) th:empty {\n",
       "    border-left: none;\n",
       "    border-right: 1px dashed #888;\n",
       "}\n",
       "table.dataframe td {\n",
       "    border: 2px solid #ccf;\n",
       "    background-color: #f4f4ff;\n",
       "}\n",
       "h3 {\n",
       "    color: white;\n",
       "    background-color: black;\n",
       "    padding: 0.5em;\n",
       "}\n",
       "</style>"
      ],
      "text/plain": [
       "<IPython.core.display.HTML object>"
      ]
     },
     "execution_count": 27,
     "metadata": {},
     "output_type": "execute_result"
    }
   ],
   "source": [
    "#Imports\n",
    "import pandas as pd\n",
    "import scipy.stats as stats\n",
    "import numpy as np\n",
    "import seaborn as sns\n",
    "import statsmodels.stats.weightstats as ws\n",
    "\n",
    "from matplotlib import pyplot\n",
    "%matplotlib inline\n",
    "\n",
    "# Formats my Pandas DataFrames to be more readable\n",
    "from IPython.core.display import HTML\n",
    "css = open('style-table.css').read() + open('style-notebook.css').read()\n",
    "HTML('<style>{}</style>'.format(css)) "
   ]
  },
  {
   "cell_type": "code",
   "execution_count": 28,
   "metadata": {
    "collapsed": false
   },
   "outputs": [],
   "source": [
    "# Imports the body temperature data from the study and stores it as data\n",
    "data = pd.read_csv('data/human_body_temperature.csv')"
   ]
  },
  {
   "cell_type": "code",
   "execution_count": null,
   "metadata": {
    "collapsed": false
   },
   "outputs": [],
   "source": []
  },
  {
   "cell_type": "markdown",
   "metadata": {},
   "source": [
    "Below is an initial survey of the data indicates. Notice the table stores the temperature, gender, and heart rate per participant. I also found a few summary statistics on the data: the count, mean, standard deviation, min, max, and quartiles."
   ]
  },
  {
   "cell_type": "code",
   "execution_count": 29,
   "metadata": {
    "collapsed": false
   },
   "outputs": [
    {
     "data": {
      "text/html": [
       "<div>\n",
       "<table border=\"1\" class=\"dataframe\">\n",
       "  <thead>\n",
       "    <tr style=\"text-align: right;\">\n",
       "      <th></th>\n",
       "      <th>temperature</th>\n",
       "      <th>gender</th>\n",
       "      <th>heart_rate</th>\n",
       "    </tr>\n",
       "  </thead>\n",
       "  <tbody>\n",
       "    <tr>\n",
       "      <th>0</th>\n",
       "      <td>99.3</td>\n",
       "      <td>F</td>\n",
       "      <td>68.0</td>\n",
       "    </tr>\n",
       "    <tr>\n",
       "      <th>1</th>\n",
       "      <td>98.4</td>\n",
       "      <td>F</td>\n",
       "      <td>81.0</td>\n",
       "    </tr>\n",
       "    <tr>\n",
       "      <th>2</th>\n",
       "      <td>97.8</td>\n",
       "      <td>M</td>\n",
       "      <td>73.0</td>\n",
       "    </tr>\n",
       "    <tr>\n",
       "      <th>3</th>\n",
       "      <td>99.2</td>\n",
       "      <td>F</td>\n",
       "      <td>66.0</td>\n",
       "    </tr>\n",
       "    <tr>\n",
       "      <th>4</th>\n",
       "      <td>98.0</td>\n",
       "      <td>F</td>\n",
       "      <td>73.0</td>\n",
       "    </tr>\n",
       "  </tbody>\n",
       "</table>\n",
       "</div>"
      ],
      "text/plain": [
       "   temperature gender  heart_rate\n",
       "0         99.3      F        68.0\n",
       "1         98.4      F        81.0\n",
       "2         97.8      M        73.0\n",
       "3         99.2      F        66.0\n",
       "4         98.0      F        73.0"
      ]
     },
     "execution_count": 29,
     "metadata": {},
     "output_type": "execute_result"
    }
   ],
   "source": [
    "data.head()"
   ]
  },
  {
   "cell_type": "code",
   "execution_count": 30,
   "metadata": {
    "collapsed": false
   },
   "outputs": [
    {
     "data": {
      "text/html": [
       "<div>\n",
       "<table border=\"1\" class=\"dataframe\">\n",
       "  <thead>\n",
       "    <tr style=\"text-align: right;\">\n",
       "      <th></th>\n",
       "      <th>temperature</th>\n",
       "      <th>heart_rate</th>\n",
       "    </tr>\n",
       "  </thead>\n",
       "  <tbody>\n",
       "    <tr>\n",
       "      <th>count</th>\n",
       "      <td>130.000000</td>\n",
       "      <td>130.000000</td>\n",
       "    </tr>\n",
       "    <tr>\n",
       "      <th>mean</th>\n",
       "      <td>98.249231</td>\n",
       "      <td>73.761538</td>\n",
       "    </tr>\n",
       "    <tr>\n",
       "      <th>std</th>\n",
       "      <td>0.733183</td>\n",
       "      <td>7.062077</td>\n",
       "    </tr>\n",
       "    <tr>\n",
       "      <th>min</th>\n",
       "      <td>96.300000</td>\n",
       "      <td>57.000000</td>\n",
       "    </tr>\n",
       "    <tr>\n",
       "      <th>25%</th>\n",
       "      <td>97.800000</td>\n",
       "      <td>69.000000</td>\n",
       "    </tr>\n",
       "    <tr>\n",
       "      <th>50%</th>\n",
       "      <td>98.300000</td>\n",
       "      <td>74.000000</td>\n",
       "    </tr>\n",
       "    <tr>\n",
       "      <th>75%</th>\n",
       "      <td>98.700000</td>\n",
       "      <td>79.000000</td>\n",
       "    </tr>\n",
       "    <tr>\n",
       "      <th>max</th>\n",
       "      <td>100.800000</td>\n",
       "      <td>89.000000</td>\n",
       "    </tr>\n",
       "  </tbody>\n",
       "</table>\n",
       "</div>"
      ],
      "text/plain": [
       "       temperature  heart_rate\n",
       "count   130.000000  130.000000\n",
       "mean     98.249231   73.761538\n",
       "std       0.733183    7.062077\n",
       "min      96.300000   57.000000\n",
       "25%      97.800000   69.000000\n",
       "50%      98.300000   74.000000\n",
       "75%      98.700000   79.000000\n",
       "max     100.800000   89.000000"
      ]
     },
     "execution_count": 30,
     "metadata": {},
     "output_type": "execute_result"
    }
   ],
   "source": [
    "data.describe()"
   ]
  },
  {
   "cell_type": "code",
   "execution_count": 31,
   "metadata": {
    "collapsed": true
   },
   "outputs": [],
   "source": [
    "# For all hypothesis tests in this analysis, my alpha level will be 0.05. \n",
    "alpha = 0.05 "
   ]
  },
  {
   "cell_type": "code",
   "execution_count": null,
   "metadata": {
    "collapsed": true
   },
   "outputs": [],
   "source": []
  },
  {
   "cell_type": "markdown",
   "metadata": {},
   "source": [
    "# 1) Is the distribution of body temperatures normal? "
   ]
  },
  {
   "cell_type": "markdown",
   "metadata": {},
   "source": [
    "Looking at the histogram of the temperatures below, it appears to be a normal distribution. I will then evaluate this claim further by hypothesis testing below to make sure. "
   ]
  },
  {
   "cell_type": "code",
   "execution_count": 32,
   "metadata": {
    "collapsed": false
   },
   "outputs": [
    {
     "data": {
      "text/plain": [
       "<matplotlib.axes._subplots.AxesSubplot at 0x25505237f28>"
      ]
     },
     "execution_count": 32,
     "metadata": {},
     "output_type": "execute_result"
    },
    {
     "data": {
      "image/png": "[encoded data removed]",
      "text/plain": [
       "<matplotlib.figure.Figure at 0x25505298518>"
      ]
     },
     "metadata": {},
     "output_type": "display_data"
    }
   ],
   "source": [
    "data.temperature.hist()"
   ]
  },
  {
   "cell_type": "markdown",
   "metadata": {},
   "source": [
    "## **  Normal Distribution Test **\n",
    "\n",
    "**Null hypothesis**: Human body temperature is normally distributed in the population.\n",
    "\n",
    "**Alternative hypothesis**: Human body temperature is not normally distributed in the population."
   ]
  },
  {
   "cell_type": "code",
   "execution_count": 33,
   "metadata": {
    "collapsed": false
   },
   "outputs": [
    {
     "name": "stdout",
     "output_type": "stream",
     "text": [
      "chi = 2.70380143332 and p = 0.258747986349\n",
      " \n",
      "I fail to the reject the null.\n"
     ]
    }
   ],
   "source": [
    "chi,p = stats.mstats.normaltest(data.temperature)\n",
    "(chi,p)\n",
    "\n",
    "print(\"chi = \" + str(chi) + \" and p = \"+ str(p))\n",
    "\n",
    "print(\" \")\n",
    "\n",
    "if(p < alpha): \n",
    "    print(\"I reject the null.\")\n",
    "else: \n",
    "    print(\"I fail to the reject the null.\")"
   ]
  },
  {
   "cell_type": "code",
   "execution_count": null,
   "metadata": {
    "collapsed": true
   },
   "outputs": [],
   "source": []
  },
  {
   "cell_type": "markdown",
   "metadata": {},
   "source": [
    "# 2) Is the sample size large? Are the observations independent?\n",
    "\n",
    "In the line below, one can see that 130 temperatures were read, so this is a large enough data set. I then tested to see whether the temperature is independend of gender through a two-sample t test on male and female temperatures. Finally, I determined whether thers is a correlation between body temperature and heart rate. "
   ]
  },
  {
   "cell_type": "code",
   "execution_count": 34,
   "metadata": {
    "collapsed": false
   },
   "outputs": [
    {
     "name": "stdout",
     "output_type": "stream",
     "text": [
      "130 temperatures were read.\n"
     ]
    }
   ],
   "source": [
    "print( str(len(data)) + \" temperatures were read.\")"
   ]
  },
  {
   "cell_type": "code",
   "execution_count": 35,
   "metadata": {
    "collapsed": false
   },
   "outputs": [],
   "source": [
    "# Makes sub-DataFrames for males and females\n",
    "males = data[data['gender']=='M']\n",
    "females = data[data['gender']=='F']"
   ]
  },
  {
   "cell_type": "code",
   "execution_count": 36,
   "metadata": {
    "collapsed": false
   },
   "outputs": [
    {
     "data": {
      "image/png": "[encoded data removed]",
      "text/plain": [
       "<matplotlib.figure.Figure at 0x255052b4b00>"
      ]
     },
     "metadata": {},
     "output_type": "display_data"
    }
   ],
   "source": [
    "# Plots a histogram to see whether there is an easily discernable difference between body temperature by gender\n",
    "bins = np.linspace(96, 101, 11)\n",
    "\n",
    "pyplot.hist(males.temperature, bins, alpha=0.5, label='Males')\n",
    "pyplot.hist(females.temperature, bins, alpha=0.5, label='Females')\n",
    "pyplot.legend(loc='upper right')\n",
    "pyplot.show()"
   ]
  },
  {
   "cell_type": "code",
   "execution_count": 37,
   "metadata": {
    "collapsed": false
   },
   "outputs": [
    {
     "data": {
      "text/html": [
       "<div>\n",
       "<table border=\"1\" class=\"dataframe\">\n",
       "  <thead>\n",
       "    <tr style=\"text-align: right;\">\n",
       "      <th></th>\n",
       "      <th>Gender</th>\n",
       "      <th>Sample Mean Body Temperature</th>\n",
       "    </tr>\n",
       "  </thead>\n",
       "  <tbody>\n",
       "    <tr>\n",
       "      <th>0</th>\n",
       "      <td>Males</td>\n",
       "      <td>98.104615</td>\n",
       "    </tr>\n",
       "    <tr>\n",
       "      <th>1</th>\n",
       "      <td>Females</td>\n",
       "      <td>98.393846</td>\n",
       "    </tr>\n",
       "  </tbody>\n",
       "</table>\n",
       "</div>"
      ],
      "text/plain": [
       "    Gender  Sample Mean Body Temperature\n",
       "0    Males                     98.104615\n",
       "1  Females                     98.393846"
      ]
     },
     "execution_count": 37,
     "metadata": {},
     "output_type": "execute_result"
    }
   ],
   "source": [
    "# Displays the means for males and females\n",
    "pd.DataFrame({'Gender': ['Males', 'Females'], 'Sample Mean Body Temperature': [males.temperature.mean(), females.temperature.mean()]})"
   ]
  },
  {
   "cell_type": "markdown",
   "metadata": {},
   "source": [
    "## ** Gender Independence Test **\n",
    "\n",
    "On first appearance, it seems like there is no major difference in the histograms. Upon closer inspection from the graph, however, females may have a slightly higher body temperature than men. The sample mean for females is also higher than for males. Whether there is a difference will be tested by a two-sided t-test. (Note: This also addresses question 5 above.) \n",
    "\n",
    "I am ultimately interested in being able to conclude whether temperature is likely dependent on gender. Thus, I am interested in determining whether there is a difference in male and female mean temperatures, since any difference (greater or less) would indicate dependence on gender. Hence, I am interested in a two-sample, two-sided t-test. \n",
    "\n",
    "**Null Hypothesis**: There is no difference in mean body temperature between females and males in the population. (By implication, body temperature is independent of gender.) \n",
    "\n",
    "**Alternative Hypothesis**: There is a difference in mean body temperature between females and males in the population. (By implication, body temperature is dependent on gender.) "
   ]
  },
  {
   "cell_type": "code",
   "execution_count": 38,
   "metadata": {
    "collapsed": false
   },
   "outputs": [
    {
     "name": "stdout",
     "output_type": "stream",
     "text": [
      "t = -2.28543453817 and p = 0.0239318831224\n",
      " \n",
      "I reject the null.\n"
     ]
    }
   ],
   "source": [
    "# Conducts the two-sided t test on the male and female populations\n",
    "t, p = stats.ttest_ind(males.temperature, females.temperature)\n",
    "(t, p)\n",
    "\n",
    "print(\"t = \" + str(t) + \" and p = \"+ str(p))\n",
    "\n",
    "print(\" \")\n",
    "\n",
    "if(p < alpha): \n",
    "    print(\"I reject the null.\")\n",
    "else: \n",
    "    print(\"I fail to the reject the null.\")"
   ]
  },
  {
   "cell_type": "markdown",
   "metadata": {},
   "source": [
    "I must conclude that there may be a statistically significant difference between men and women. I must reject the hypothesis that body temperature is independent of gender in the population. "
   ]
  },
  {
   "cell_type": "code",
   "execution_count": null,
   "metadata": {
    "collapsed": true
   },
   "outputs": [],
   "source": []
  },
  {
   "cell_type": "markdown",
   "metadata": {},
   "source": [
    "## Heart Rate Test\n",
    "\n",
    "Below I will determine whether body temperature is independent on heart rate or the direction of any correlation. Glancing at the scatter plot below, it does not appear to have a correlation. I added a line of best fit, and I tested the correlation strength to make sure."
   ]
  },
  {
   "cell_type": "code",
   "execution_count": 39,
   "metadata": {
    "collapsed": false
   },
   "outputs": [
    {
     "data": {
      "text/plain": [
       "<seaborn.axisgrid.FacetGrid at 0x255053c39e8>"
      ]
     },
     "execution_count": 39,
     "metadata": {},
     "output_type": "execute_result"
    },
    {
     "data": {
      "image/png": "[encoded data removed]",
      "text/plain": [
       "<matplotlib.figure.Figure at 0x255052b8c50>"
      ]
     },
     "metadata": {},
     "output_type": "display_data"
    }
   ],
   "source": [
    "sns.lmplot(x='temperature',y='heart_rate',data=data,fit_reg=True)"
   ]
  },
  {
   "cell_type": "markdown",
   "metadata": {},
   "source": [
    "The line of best fit is positive, although clearly the data is scattered pretty half-hazardly across. Below is the correlation coefficient to determine whether this potential positive correlation is significant: "
   ]
  },
  {
   "cell_type": "code",
   "execution_count": 40,
   "metadata": {
    "collapsed": false
   },
   "outputs": [
    {
     "name": "stdout",
     "output_type": "stream",
     "text": [
      "Correlation Coefficient: 0.253656402721\n"
     ]
    }
   ],
   "source": [
    "print(\"Correlation Coefficient: \" + str(data.corr().heart_rate.temperature))"
   ]
  },
  {
   "cell_type": "markdown",
   "metadata": {},
   "source": [
    "This correlation coefficient is positive but low. Thus we can conclude that there may be a weak positive correlation between body temperature and heart rate. \n",
    "\n",
    "To determine whether gender influences the relationship between body temperature and heart rate, I conducted a similar test on both the male and female subpopulations: "
   ]
  },
  {
   "cell_type": "markdown",
   "metadata": {},
   "source": [
    "** Males **"
   ]
  },
  {
   "cell_type": "code",
   "execution_count": 41,
   "metadata": {
    "collapsed": false
   },
   "outputs": [
    {
     "data": {
      "text/plain": [
       "<seaborn.axisgrid.FacetGrid at 0x2550657c9e8>"
      ]
     },
     "execution_count": 41,
     "metadata": {},
     "output_type": "execute_result"
    },
    {
     "data": {
      "image/png": "[encoded data removed]",
      "text/plain": [
       "<matplotlib.figure.Figure at 0x25506582b00>"
      ]
     },
     "metadata": {},
     "output_type": "display_data"
    }
   ],
   "source": [
    "sns.lmplot(x='temperature',y='heart_rate',data=males,fit_reg=True)"
   ]
  },
  {
   "cell_type": "code",
   "execution_count": 42,
   "metadata": {
    "collapsed": false
   },
   "outputs": [
    {
     "name": "stdout",
     "output_type": "stream",
     "text": [
      "Male Correlation Coefficient: 0.195589375097\n"
     ]
    }
   ],
   "source": [
    "print(\"Male Correlation Coefficient: \" + str(males.corr().heart_rate.temperature))"
   ]
  },
  {
   "cell_type": "markdown",
   "metadata": {},
   "source": [
    "** Females **"
   ]
  },
  {
   "cell_type": "code",
   "execution_count": 43,
   "metadata": {
    "collapsed": false
   },
   "outputs": [
    {
     "data": {
      "text/plain": [
       "<seaborn.axisgrid.FacetGrid at 0x255066527f0>"
      ]
     },
     "execution_count": 43,
     "metadata": {},
     "output_type": "execute_result"
    },
    {
     "data": {
      "image/png": "[encoded data removed]",
      "text/plain": [
       "<matplotlib.figure.Figure at 0x25506652d68>"
      ]
     },
     "metadata": {},
     "output_type": "display_data"
    }
   ],
   "source": [
    "sns.lmplot(x='temperature',y='heart_rate',data=males,fit_reg=True)"
   ]
  },
  {
   "cell_type": "code",
   "execution_count": 44,
   "metadata": {
    "collapsed": false
   },
   "outputs": [
    {
     "name": "stdout",
     "output_type": "stream",
     "text": [
      "Female Correlation Coefficient: 0.286931154497\n"
     ]
    }
   ],
   "source": [
    "print(\"Female Correlation Coefficient: \" + str(females.corr().heart_rate.temperature))"
   ]
  },
  {
   "cell_type": "markdown",
   "metadata": {},
   "source": [
    "Note that for the female population, the correlation between body temperature and heart rate is noticeably higher (0.287 compared with 0.196). Further testing would reveal how significant this difference is, and why it might be the case.  \n",
    "\n",
    "I will not conduct a t-test on heart rate by gender to determine whether there is a noticeable difference in the heart rate means between males and females. Given that gender does seem to influence the body temperature, a relationship between gender and heart rate could partially explain the weak correlation between heart rate and body temperature. "
   ]
  },
  {
   "cell_type": "code",
   "execution_count": 45,
   "metadata": {
    "collapsed": false
   },
   "outputs": [
    {
     "data": {
      "text/html": [
       "<div>\n",
       "<table border=\"1\" class=\"dataframe\">\n",
       "  <thead>\n",
       "    <tr style=\"text-align: right;\">\n",
       "      <th></th>\n",
       "      <th>Gender</th>\n",
       "      <th>Sample Mean Heart Rate</th>\n",
       "    </tr>\n",
       "  </thead>\n",
       "  <tbody>\n",
       "    <tr>\n",
       "      <th>0</th>\n",
       "      <td>Males</td>\n",
       "      <td>73.369231</td>\n",
       "    </tr>\n",
       "    <tr>\n",
       "      <th>1</th>\n",
       "      <td>Females</td>\n",
       "      <td>74.153846</td>\n",
       "    </tr>\n",
       "  </tbody>\n",
       "</table>\n",
       "</div>"
      ],
      "text/plain": [
       "    Gender  Sample Mean Heart Rate\n",
       "0    Males               73.369231\n",
       "1  Females               74.153846"
      ]
     },
     "execution_count": 45,
     "metadata": {},
     "output_type": "execute_result"
    }
   ],
   "source": [
    "pd.DataFrame({'Gender': ['Males', 'Females'], 'Sample Mean Heart Rate': [males.heart_rate.mean(), females.heart_rate.mean()]})"
   ]
  },
  {
   "cell_type": "markdown",
   "metadata": {},
   "source": [
    "Notice that in the sample, females have a higher heart rate than males. We will test whether they are different in the population. \n",
    "\n",
    "**Null Hypothesis**: There is no difference in mean heart rate between females and males in the population. \n",
    "\n",
    "**Alternative Hypothesis**: There is a difference in mean heart rate between females and males in the population. "
   ]
  },
  {
   "cell_type": "code",
   "execution_count": 46,
   "metadata": {
    "collapsed": false
   },
   "outputs": [
    {
     "name": "stdout",
     "output_type": "stream",
     "text": [
      "t = -0.631906102474 and p = 0.528575239707\n",
      " \n",
      "I fail to the reject the null.\n"
     ]
    }
   ],
   "source": [
    "# Conducts the two-sided t test on the heart rate of the male and female populations\n",
    "t, p = stats.ttest_ind(males.heart_rate, females.heart_rate)\n",
    "(t, p)\n",
    "\n",
    "print(\"t = \" + str(t) + \" and p = \"+ str(p))\n",
    "\n",
    "print(\" \")\n",
    "\n",
    "if(p < alpha): \n",
    "    print(\"I reject the null.\")\n",
    "else: \n",
    "    print(\"I fail to the reject the null.\")"
   ]
  },
  {
   "cell_type": "markdown",
   "metadata": {},
   "source": [
    "We can thus conclude that there is not likely a difference between mean heart rates of the genders in the population. Thus, we can conclude that heart rate is most likely independent of gender. Also, any influence heart rate has on body temperature is not likely caused by an underlying gender difference."
   ]
  },
  {
   "cell_type": "code",
   "execution_count": null,
   "metadata": {
    "collapsed": true
   },
   "outputs": [],
   "source": []
  },
  {
   "cell_type": "markdown",
   "metadata": {},
   "source": [
    "## Conclusion on Independence\n",
    "Body temperature is likely dependent on gender and may possess a weak positive correlation with heart rate. Women seem to have a slightly stronger correlation between body temperature and heart rate than men. Thus, we cannot conclude that body temperature is independent. \n",
    "\n",
    "I hypothesize that the higher body temperature of females is due to the fact that on average, females are physically smaller than men. This could decrease the energy needed to maintain a higher body temperature. The stronger correlation between heart rate and body temperature for women than for men may also connect with smaller body size, which could increase the degree to which an increase in blood circulation would generate heat. We do not have enough data on this, but further tests on the influence of size, body mass on body temperature, and body type on body temperature could test this hypothesis."
   ]
  },
  {
   "cell_type": "code",
   "execution_count": null,
   "metadata": {
    "collapsed": true
   },
   "outputs": [],
   "source": []
  },
  {
   "cell_type": "markdown",
   "metadata": {},
   "source": [
    "# 3) Is the true population mean really 98.6 degrees F?"
   ]
  },
  {
   "cell_type": "code",
   "execution_count": 47,
   "metadata": {
    "collapsed": false
   },
   "outputs": [
    {
     "name": "stdout",
     "output_type": "stream",
     "text": [
      "Sample Body Temperature Mean: 98.24923076923078\n"
     ]
    }
   ],
   "source": [
    "print(\"Sample Body Temperature Mean: \" + str(data.temperature.mean()))"
   ]
  },
  {
   "cell_type": "markdown",
   "metadata": {},
   "source": [
    "Our sample mean is 98.2. We will use a one-sample t test to test the likeliness that the population mean is 98.6. This will be two-tailed because we are interested in whether it is 98.2 not, whether it is at least or at most 98.6 degrees. \n",
    "\n",
    "** Null Hypothesis: ** The population body temperature mean is 98.6. \n",
    "\n",
    "** Alternative Hypothesis: ** The population body temperature mean is not 98.6. "
   ]
  },
  {
   "cell_type": "code",
   "execution_count": 48,
   "metadata": {
    "collapsed": false
   },
   "outputs": [
    {
     "name": "stdout",
     "output_type": "stream",
     "text": [
      "z = -5.45482329236 and p = 4.9021570141e-08\n",
      " \n",
      "I reject the null.\n"
     ]
    }
   ],
   "source": [
    "z, p = ws.ztest(data.temperature, value = 98.6)\n",
    "\n",
    "print(\"z = \" + str(z) + \" and p = \"+ str(p))\n",
    "print(\" \")\n",
    "\n",
    "if(p < alpha): \n",
    "    print(\"I reject the null.\")\n",
    "else: \n",
    "    print(\"I fail to the reject the null.\")"
   ]
  },
  {
   "cell_type": "markdown",
   "metadata": {},
   "source": [
    "This is a really small p-value. Thus I conclude that the population mean is most likely not 98.6. \n",
    "\n",
    "I will also try a t-test to compare conclusions: "
   ]
  },
  {
   "cell_type": "code",
   "execution_count": 49,
   "metadata": {
    "collapsed": false
   },
   "outputs": [
    {
     "name": "stdout",
     "output_type": "stream",
     "text": [
      "t = -5.45482329236 and p = 2.41063204156e-07\n",
      " \n",
      "I reject the null.\n"
     ]
    }
   ],
   "source": [
    "t, p = stats.ttest_1samp(a = data.temperature, popmean = 98.6)\n",
    "\n",
    "print(\"t = \" + str(t) + \" and p = \"+ str(p))\n",
    "print(\" \")\n",
    "\n",
    "if(p < alpha): \n",
    "    print(\"I reject the null.\")\n",
    "else: \n",
    "    print(\"I fail to the reject the null.\")"
   ]
  },
  {
   "cell_type": "markdown",
   "metadata": {},
   "source": [
    "Again, I have a really small p-value, so I am forced to reject the null. The population mean is most likely not 98.6 degrees Fahrenheit. "
   ]
  },
  {
   "cell_type": "code",
   "execution_count": null,
   "metadata": {
    "collapsed": true
   },
   "outputs": [],
   "source": []
  },
  {
   "cell_type": "markdown",
   "metadata": {},
   "source": [
    "I will construct a 95% confidence interval for the population body temperature mean to help understand where the population mean likely falls. "
   ]
  },
  {
   "cell_type": "code",
   "execution_count": 50,
   "metadata": {
    "collapsed": false
   },
   "outputs": [
    {
     "data": {
      "text/plain": [
       "(96.812218185403111, 99.686243353058444)"
      ]
     },
     "execution_count": 50,
     "metadata": {},
     "output_type": "execute_result"
    }
   ],
   "source": [
    "conf_int = stats.norm.interval(1-alpha, loc=data.temperature.mean(), scale=data.temperature.std())\n",
    "conf_int"
   ]
  },
  {
   "cell_type": "markdown",
   "metadata": {},
   "source": [
    "We can conclude the population mean body temperature is has a 95% chance of being between 96.8 and 99.7. "
   ]
  },
  {
   "cell_type": "code",
   "execution_count": null,
   "metadata": {
    "collapsed": true
   },
   "outputs": [],
   "source": []
  },
  {
   "cell_type": "markdown",
   "metadata": {},
   "source": [
    "# 4) At what temperature should we consider someone's temperature to be \"abnormal\"?\n",
    "\n",
    "I will presume that someone's temperature could be considered abnormal if it fell above or below a certain percentile. For me, if would be abnormal if it fall in the lowest 2.5% or highest 97.5% (given our alpha-level of 0.05). This criteria may change given one's intent and preferences, so I calculated a table of potential percentiles below. \n",
    "\n",
    "I also determined similar abnormality figures for males and females, so one could make an assessment for an abnormal temperature for each subgroup, given gender's potentia influence over body temperature. "
   ]
  },
  {
   "cell_type": "code",
   "execution_count": 51,
   "metadata": {
    "collapsed": false
   },
   "outputs": [
    {
     "data": {
      "text/html": [
       "<div>\n",
       "<table border=\"1\" class=\"dataframe\">\n",
       "  <thead>\n",
       "    <tr style=\"text-align: right;\">\n",
       "      <th></th>\n",
       "      <th>Criteria</th>\n",
       "      <th>Either Gender: Temperature Above</th>\n",
       "      <th>Either Gender: Temperature Below</th>\n",
       "      <th>Females: Temperature Above</th>\n",
       "      <th>Females: Temperature Below</th>\n",
       "      <th>Males: Temperature Above</th>\n",
       "      <th>Males: Temperature Below</th>\n",
       "    </tr>\n",
       "  </thead>\n",
       "  <tbody>\n",
       "    <tr>\n",
       "      <th>0</th>\n",
       "      <td>0.01</td>\n",
       "      <td>100.2840</td>\n",
       "      <td>96.3645</td>\n",
       "      <td>100.544</td>\n",
       "      <td>96.496</td>\n",
       "      <td>99.468</td>\n",
       "      <td>96.428</td>\n",
       "    </tr>\n",
       "    <tr>\n",
       "      <th>1</th>\n",
       "      <td>0.05</td>\n",
       "      <td>99.4775</td>\n",
       "      <td>96.7225</td>\n",
       "      <td>99.940</td>\n",
       "      <td>96.760</td>\n",
       "      <td>99.340</td>\n",
       "      <td>96.820</td>\n",
       "    </tr>\n",
       "    <tr>\n",
       "      <th>2</th>\n",
       "      <td>0.10</td>\n",
       "      <td>99.3000</td>\n",
       "      <td>97.0450</td>\n",
       "      <td>99.380</td>\n",
       "      <td>97.200</td>\n",
       "      <td>99.180</td>\n",
       "      <td>97.020</td>\n",
       "    </tr>\n",
       "    <tr>\n",
       "      <th>3</th>\n",
       "      <td>0.15</td>\n",
       "      <td>99.2000</td>\n",
       "      <td>97.1675</td>\n",
       "      <td>99.220</td>\n",
       "      <td>97.360</td>\n",
       "      <td>99.020</td>\n",
       "      <td>97.100</td>\n",
       "    </tr>\n",
       "    <tr>\n",
       "      <th>4</th>\n",
       "      <td>0.20</td>\n",
       "      <td>99.1000</td>\n",
       "      <td>97.2900</td>\n",
       "      <td>99.160</td>\n",
       "      <td>97.640</td>\n",
       "      <td>99.000</td>\n",
       "      <td>97.140</td>\n",
       "    </tr>\n",
       "    <tr>\n",
       "      <th>5</th>\n",
       "      <td>0.25</td>\n",
       "      <td>99.0000</td>\n",
       "      <td>97.4000</td>\n",
       "      <td>99.100</td>\n",
       "      <td>97.700</td>\n",
       "      <td>98.900</td>\n",
       "      <td>97.300</td>\n",
       "    </tr>\n",
       "  </tbody>\n",
       "</table>\n",
       "</div>"
      ],
      "text/plain": [
       "   Criteria  Either Gender: Temperature Above  \\\n",
       "0      0.01                          100.2840   \n",
       "1      0.05                           99.4775   \n",
       "2      0.10                           99.3000   \n",
       "3      0.15                           99.2000   \n",
       "4      0.20                           99.1000   \n",
       "5      0.25                           99.0000   \n",
       "\n",
       "   Either Gender: Temperature Below  Females: Temperature Above  \\\n",
       "0                           96.3645                     100.544   \n",
       "1                           96.7225                      99.940   \n",
       "2                           97.0450                      99.380   \n",
       "3                           97.1675                      99.220   \n",
       "4                           97.2900                      99.160   \n",
       "5                           97.4000                      99.100   \n",
       "\n",
       "   Females: Temperature Below  Males: Temperature Above  \\\n",
       "0                      96.496                    99.468   \n",
       "1                      96.760                    99.340   \n",
       "2                      97.200                    99.180   \n",
       "3                      97.360                    99.020   \n",
       "4                      97.640                    99.000   \n",
       "5                      97.700                    98.900   \n",
       "\n",
       "   Males: Temperature Below  \n",
       "0                    96.428  \n",
       "1                    96.820  \n",
       "2                    97.020  \n",
       "3                    97.100  \n",
       "4                    97.140  \n",
       "5                    97.300  "
      ]
     },
     "execution_count": 51,
     "metadata": {},
     "output_type": "execute_result"
    }
   ],
   "source": [
    "criteria = [.01, .05, .1, .15, .2, .25]\n",
    "percentiles_max = []\n",
    "percentiles_min = []\n",
    "percentiles_max_males = []\n",
    "percentiles_min_males = []\n",
    "percentiles_max_females = []\n",
    "percentiles_min_females = []\n",
    "for c in criteria: \n",
    "    percentiles_max.append(data.temperature.quantile(1-c/2))\n",
    "    percentiles_min.append(data.temperature.quantile(c/2))\n",
    "    percentiles_max_males.append(males.temperature.quantile(1-c/2))\n",
    "    percentiles_min_males.append(males.temperature.quantile(c/2))\n",
    "    percentiles_max_females.append(females.temperature.quantile(1-c/2))\n",
    "    percentiles_min_females.append(females.temperature.quantile(c/2))\n",
    "    \n",
    "\n",
    "abnormalities_table = pd.DataFrame({'Criteria': criteria, 'Either Gender: Temperature Above': percentiles_max, 'Either Gender: Temperature Below': percentiles_min, 'Males: Temperature Above': percentiles_max_males, 'Males: Temperature Below': percentiles_min_males, 'Females: Temperature Above': percentiles_max_females, 'Females: Temperature Below': percentiles_min_females})\n",
    "abnormalities_table"
   ]
  },
  {
   "cell_type": "markdown",
   "metadata": {
    "collapsed": true
   },
   "source": [
    "Above are the abnormal temperatures for various percentile criteria for what constitutes an abnormality. If our criteria is 5%, we would consider temperatures whose percentile is 2.5% or lower, or whose percentile is 97.5% or higher. That corresponds with a body temperature lower than 96.7225 and above 99.4475 degrees Fahrenheit. "
   ]
  }
 ],
 "metadata": {
  "kernelspec": {
   "display_name": "Python 3",
   "language": "python",
   "name": "python3"
  },
  "language_info": {
   "codemirror_mode": {
    "name": "ipython",
    "version": 3
   },
   "file_extension": ".py",
   "mimetype": "text/x-python",
   "name": "python",
   "nbconvert_exporter": "python",
   "pygments_lexer": "ipython3",
   "version": "3.6.0"
  }
 },
 "nbformat": 4,
 "nbformat_minor": 0
}
